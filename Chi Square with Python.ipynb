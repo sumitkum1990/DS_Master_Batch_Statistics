{
 "cells": [
  {
   "cell_type": "code",
   "execution_count": 1,
   "id": "d8bba01d-05cc-4143-bb7d-35c8e9cd4189",
   "metadata": {},
   "outputs": [],
   "source": [
    "import scipy.stats as stat\n",
    "import numpy as np"
   ]
  },
  {
   "cell_type": "code",
   "execution_count": 7,
   "id": "8f1471c0-b17a-493d-83a0-47e494b18d8d",
   "metadata": {},
   "outputs": [],
   "source": [
    "# Number of student study deaily in a weekly basis in a week\n",
    "expected_data = [8,6,7,9,6,9,7]\n",
    "observed_data = [7,8,6,9,9,6,7]"
   ]
  },
  {
   "cell_type": "code",
   "execution_count": 8,
   "id": "67102c5e-e584-4aea-94e0-fd26d71c21c2",
   "metadata": {},
   "outputs": [
    {
     "data": {
      "text/plain": [
       "(52, 52)"
      ]
     },
     "execution_count": 8,
     "metadata": {},
     "output_type": "execute_result"
    }
   ],
   "source": [
    "sum(expected_data), sum(observed_data)"
   ]
  },
  {
   "cell_type": "code",
   "execution_count": 9,
   "id": "6c03675f-f01d-4017-98f2-e9ece264b876",
   "metadata": {},
   "outputs": [],
   "source": [
    "#Chi_square Godness of fit\n",
    "chisquare_test_statistics, p_value = stat.chisquare(observed_data, expected_data)\n"
   ]
  },
  {
   "cell_type": "code",
   "execution_count": 10,
   "id": "0623346b-fd76-42f2-8d49-a4edb03c1079",
   "metadata": {},
   "outputs": [
    {
     "name": "stdout",
     "output_type": "stream",
     "text": [
      "3.4345238095238093\n",
      "0.7526596580922865\n"
     ]
    },
    {
     "data": {
      "text/plain": [
       "(None, None)"
      ]
     },
     "execution_count": 10,
     "metadata": {},
     "output_type": "execute_result"
    }
   ],
   "source": [
    "print(chisquare_test_statistics), print(p_value)"
   ]
  },
  {
   "cell_type": "code",
   "execution_count": 11,
   "id": "702ac64c-fa48-4fe9-abb1-2e18bcecb803",
   "metadata": {},
   "outputs": [],
   "source": [
    "#find critical value"
   ]
  },
  {
   "cell_type": "code",
   "execution_count": 12,
   "id": "871b940d-0f36-4af8-bff3-ecdb894eb13d",
   "metadata": {},
   "outputs": [],
   "source": [
    "significance = 0.05\n",
    "dof = len(observed_data)-1#dof: degree of freedom\n",
    "critical_value = stat.chi2.ppf(1-significance, dof)"
   ]
  },
  {
   "cell_type": "code",
   "execution_count": 14,
   "id": "55530ef9-c44b-47bf-a71d-dcd992f3f0c3",
   "metadata": {},
   "outputs": [
    {
     "name": "stdout",
     "output_type": "stream",
     "text": [
      "Accpet null Hyppthesis\n"
     ]
    }
   ],
   "source": [
    "if chisquare_test_statistics > critical_value:\n",
    "    print(\"Reject null Hyppthesis\")\n",
    "else:\n",
    "    print(\"Accpet null Hyppthesis\")"
   ]
  },
  {
   "cell_type": "code",
   "execution_count": null,
   "id": "158e7d05-f4fa-46b5-b424-0d91e284b051",
   "metadata": {},
   "outputs": [],
   "source": []
  }
 ],
 "metadata": {
  "kernelspec": {
   "display_name": "Python 3 (ipykernel)",
   "language": "python",
   "name": "python3"
  },
  "language_info": {
   "codemirror_mode": {
    "name": "ipython",
    "version": 3
   },
   "file_extension": ".py",
   "mimetype": "text/x-python",
   "name": "python",
   "nbconvert_exporter": "python",
   "pygments_lexer": "ipython3",
   "version": "3.10.8"
  }
 },
 "nbformat": 4,
 "nbformat_minor": 5
}
